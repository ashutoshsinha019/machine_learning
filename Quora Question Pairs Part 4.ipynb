{
 "cells": [
  {
   "cell_type": "markdown",
   "metadata": {},
   "source": [
    "## Machine Learning Models"
   ]
  },
  {
   "cell_type": "code",
   "execution_count": 25,
   "metadata": {},
   "outputs": [],
   "source": [
    "import pandas as pd\n",
    "import matplotlib.pyplot as plt\n",
    "import re\n",
    "from sklearn.model_selection import train_test_split\n",
    "from sklearn.metrics import confusion_matrix\n",
    "import numpy as np\n",
    "#from sklearn.metrics.classification import accuracy_score, log_loss\n",
    "from sklearn.metrics import log_loss\n",
    "import seaborn as sns\n",
    "from sklearn.metrics import precision_recall_curve, auc, roc_curve\n",
    "from sklearn.linear_model import SGDClassifier\n",
    "from sklearn.calibration import CalibratedClassifierCV\n",
    "from sklearn.model_selection import RandomizedSearchCV, GridSearchCV\n",
    "from sklearn.metrics import roc_auc_score\n",
    "from sklearn.model_selection import StratifiedKFold\n",
    "from xgboost import XGBClassifier\n",
    "import xgboost as xgb"
   ]
  },
  {
   "cell_type": "code",
   "execution_count": 4,
   "metadata": {},
   "outputs": [],
   "source": [
    "learning_data = pd.read_csv('final_features.csv')"
   ]
  },
  {
   "cell_type": "code",
   "execution_count": 5,
   "metadata": {},
   "outputs": [
    {
     "data": {
      "text/plain": [
       "['Unnamed: 0',\n",
       " 'Unnamed: 0_x',\n",
       " 'frequency_of_question1',\n",
       " 'frequency_of_question2',\n",
       " 'character_in_question1',\n",
       " 'character_in_question2',\n",
       " 'word_in_question1',\n",
       " 'word_in_question2',\n",
       " 'common_words_in_both_questions',\n",
       " 'total_words_in_both_questions',\n",
       " 'common_share_word_percentage',\n",
       " 'sum_of_frequency',\n",
       " 'difference_of_frequency',\n",
       " 'is_duplicate_x',\n",
       " 'id',\n",
       " 'Unnamed: 0_y',\n",
       " 'common_word_count_min',\n",
       " 'common_word_count_max',\n",
       " 'common_stop_count_min',\n",
       " 'common_stop_count_max',\n",
       " 'common_token_count_min',\n",
       " 'common_token_count_max',\n",
       " 'is_first_token_match',\n",
       " 'is_last_token_match',\n",
       " 'mean_token',\n",
       " 'fuzz_ratio',\n",
       " 'fuzz_partial_ratio',\n",
       " 'fuzz_sort_ratio',\n",
       " 'fuzz_set_ratio',\n",
       " 'lcs_token_min',\n",
       " 'is_duplicate_y',\n",
       " '0_x',\n",
       " '1_x',\n",
       " '2_x',\n",
       " '3_x',\n",
       " '4_x',\n",
       " '5_x',\n",
       " '6_x',\n",
       " '7_x',\n",
       " '8_x',\n",
       " '9_x',\n",
       " '10_x',\n",
       " '11_x',\n",
       " '12_x',\n",
       " '13_x',\n",
       " '14_x',\n",
       " '15_x',\n",
       " '16_x',\n",
       " '17_x',\n",
       " '18_x',\n",
       " '19_x',\n",
       " '20_x',\n",
       " '21_x',\n",
       " '22_x',\n",
       " '23_x',\n",
       " '24_x',\n",
       " '25_x',\n",
       " '26_x',\n",
       " '27_x',\n",
       " '28_x',\n",
       " '29_x',\n",
       " '30_x',\n",
       " '31_x',\n",
       " '32_x',\n",
       " '33_x',\n",
       " '34_x',\n",
       " '35_x',\n",
       " '36_x',\n",
       " '37_x',\n",
       " '38_x',\n",
       " '39_x',\n",
       " '40_x',\n",
       " '41_x',\n",
       " '42_x',\n",
       " '43_x',\n",
       " '44_x',\n",
       " '45_x',\n",
       " '46_x',\n",
       " '47_x',\n",
       " '48_x',\n",
       " '49_x',\n",
       " '50_x',\n",
       " '51_x',\n",
       " '52_x',\n",
       " '53_x',\n",
       " '54_x',\n",
       " '55_x',\n",
       " '56_x',\n",
       " '57_x',\n",
       " '58_x',\n",
       " '59_x',\n",
       " '60_x',\n",
       " '61_x',\n",
       " '62_x',\n",
       " '63_x',\n",
       " '64_x',\n",
       " '65_x',\n",
       " '66_x',\n",
       " '67_x',\n",
       " '68_x',\n",
       " '69_x',\n",
       " '70_x',\n",
       " '71_x',\n",
       " '72_x',\n",
       " '73_x',\n",
       " '74_x',\n",
       " '75_x',\n",
       " '76_x',\n",
       " '77_x',\n",
       " '78_x',\n",
       " '79_x',\n",
       " '80_x',\n",
       " '81_x',\n",
       " '82_x',\n",
       " '83_x',\n",
       " '84_x',\n",
       " '85_x',\n",
       " '86_x',\n",
       " '87_x',\n",
       " '88_x',\n",
       " '89_x',\n",
       " '90_x',\n",
       " '91_x',\n",
       " '92_x',\n",
       " '93_x',\n",
       " '94_x',\n",
       " '95_x',\n",
       " '0_y',\n",
       " '1_y',\n",
       " '2_y',\n",
       " '3_y',\n",
       " '4_y',\n",
       " '5_y',\n",
       " '6_y',\n",
       " '7_y',\n",
       " '8_y',\n",
       " '9_y',\n",
       " '10_y',\n",
       " '11_y',\n",
       " '12_y',\n",
       " '13_y',\n",
       " '14_y',\n",
       " '15_y',\n",
       " '16_y',\n",
       " '17_y',\n",
       " '18_y',\n",
       " '19_y',\n",
       " '20_y',\n",
       " '21_y',\n",
       " '22_y',\n",
       " '23_y',\n",
       " '24_y',\n",
       " '25_y',\n",
       " '26_y',\n",
       " '27_y',\n",
       " '28_y',\n",
       " '29_y',\n",
       " '30_y',\n",
       " '31_y',\n",
       " '32_y',\n",
       " '33_y',\n",
       " '34_y',\n",
       " '35_y',\n",
       " '36_y',\n",
       " '37_y',\n",
       " '38_y',\n",
       " '39_y',\n",
       " '40_y',\n",
       " '41_y',\n",
       " '42_y',\n",
       " '43_y',\n",
       " '44_y',\n",
       " '45_y',\n",
       " '46_y',\n",
       " '47_y',\n",
       " '48_y',\n",
       " '49_y',\n",
       " '50_y',\n",
       " '51_y',\n",
       " '52_y',\n",
       " '53_y',\n",
       " '54_y',\n",
       " '55_y',\n",
       " '56_y',\n",
       " '57_y',\n",
       " '58_y',\n",
       " '59_y',\n",
       " '60_y',\n",
       " '61_y',\n",
       " '62_y',\n",
       " '63_y',\n",
       " '64_y',\n",
       " '65_y',\n",
       " '66_y',\n",
       " '67_y',\n",
       " '68_y',\n",
       " '69_y',\n",
       " '70_y',\n",
       " '71_y',\n",
       " '72_y',\n",
       " '73_y',\n",
       " '74_y',\n",
       " '75_y',\n",
       " '76_y',\n",
       " '77_y',\n",
       " '78_y',\n",
       " '79_y',\n",
       " '80_y',\n",
       " '81_y',\n",
       " '82_y',\n",
       " '83_y',\n",
       " '84_y',\n",
       " '85_y',\n",
       " '86_y',\n",
       " '87_y',\n",
       " '88_y',\n",
       " '89_y',\n",
       " '90_y',\n",
       " '91_y',\n",
       " '92_y',\n",
       " '93_y',\n",
       " '94_y',\n",
       " '95_y']"
      ]
     },
     "execution_count": 5,
     "metadata": {},
     "output_type": "execute_result"
    }
   ],
   "source": [
    "learning_data.columns.to_list()"
   ]
  },
  {
   "cell_type": "code",
   "execution_count": 6,
   "metadata": {},
   "outputs": [
    {
     "data": {
      "text/plain": [
       "(404290, 223)"
      ]
     },
     "execution_count": 6,
     "metadata": {},
     "output_type": "execute_result"
    }
   ],
   "source": [
    "learning_data.shape"
   ]
  },
  {
   "cell_type": "code",
   "execution_count": 7,
   "metadata": {},
   "outputs": [
    {
     "data": {
      "text/plain": [
       "(404290, 217)"
      ]
     },
     "execution_count": 7,
     "metadata": {},
     "output_type": "execute_result"
    }
   ],
   "source": [
    "learning_data = learning_data.drop(columns = ['Unnamed: 0', 'Unnamed: 0_x', 'Unnamed: 0_y', 'is_duplicate_x', 'id'])\n",
    "y_true = learning_data[\"is_duplicate_y\"]\n",
    "learning_data = learning_data.drop(columns = ['is_duplicate_y'])\n",
    "data = learning_data\n",
    "learning_data.shape"
   ]
  },
  {
   "cell_type": "code",
   "execution_count": 8,
   "metadata": {},
   "outputs": [],
   "source": [
    "X_train,X_test, y_train, y_test = train_test_split(data, y_true, stratify=y_true, test_size=0.3)"
   ]
  },
  {
   "cell_type": "code",
   "execution_count": 9,
   "metadata": {},
   "outputs": [],
   "source": [
    "#https://scikit-learn.org/stable/modules/generated/sklearn.metrics.confusion_matrix.html\n",
    "# This function plots the confusion matrices given y_i, y_i_hat.\n",
    "def plot_confusion_matrix(test_y, predict_y):\n",
    "    C = confusion_matrix(test_y, predict_y)\n",
    "    # C = 9,9 matrix, each cell (i,j) represents number of points of class i are predicted class j\n",
    "    \n",
    "    A =(((C.T)/(C.sum(axis=1))).T)\n",
    "    #divid each element of the confusion matrix with the sum of elements in that column\n",
    "    \n",
    "    # C = [[1, 2],\n",
    "    #     [3, 4]]\n",
    "    # C.T = [[1, 3],\n",
    "    #        [2, 4]]\n",
    "    # C.sum(axis = 1)  axis=0 corresonds to columns and axis=1 corresponds to rows in two diamensional array\n",
    "    # C.sum(axix =1) = [[3, 7]]\n",
    "    # ((C.T)/(C.sum(axis=1))) = [[1/3, 3/7]\n",
    "    #                           [2/3, 4/7]]\n",
    "\n",
    "    # ((C.T)/(C.sum(axis=1))).T = [[1/3, 2/3]\n",
    "    #                           [3/7, 4/7]]\n",
    "    # sum of row elements = 1\n",
    "    \n",
    "    B =(C/C.sum(axis=0))\n",
    "    #divid each element of the confusion matrix with the sum of elements in that row\n",
    "    # C = [[1, 2],\n",
    "    #     [3, 4]]\n",
    "    # C.sum(axis = 0)  axis=0 corresonds to columns and axis=1 corresponds to rows in two diamensional array\n",
    "    # C.sum(axix =0) = [[4, 6]]\n",
    "    # (C/C.sum(axis=0)) = [[1/4, 2/6],\n",
    "    #                      [3/4, 4/6]] \n",
    "    plt.figure(figsize=(20,4))\n",
    "    \n",
    "    labels = [1,2]\n",
    "    # representing A in heatmap format\n",
    "    cmap=sns.light_palette(\"blue\")\n",
    "    plt.subplot(1, 3, 1)\n",
    "    sns.heatmap(C, annot=True, cmap=cmap, fmt=\".3f\", xticklabels=labels, yticklabels=labels)\n",
    "    plt.xlabel('Predicted Class')\n",
    "    plt.ylabel('Original Class')\n",
    "    plt.title(\"Confusion matrix\")\n",
    "    \n",
    "    plt.subplot(1, 3, 2)\n",
    "    sns.heatmap(B, annot=True, cmap=cmap, fmt=\".3f\", xticklabels=labels, yticklabels=labels)\n",
    "    plt.xlabel('Predicted Class')\n",
    "    plt.ylabel('Original Class')\n",
    "    plt.title(\"Precision matrix\")\n",
    "    \n",
    "    plt.subplot(1, 3, 3)\n",
    "    # representing B in heatmap format\n",
    "    sns.heatmap(A, annot=True, cmap=cmap, fmt=\".3f\", xticklabels=labels, yticklabels=labels)\n",
    "    plt.xlabel('Predicted Class')\n",
    "    plt.ylabel('Original Class')\n",
    "    plt.title(\"Recall matrix\")\n",
    "    \n",
    "    plt.show()"
   ]
  },
  {
   "cell_type": "code",
   "execution_count": 10,
   "metadata": {},
   "outputs": [
    {
     "name": "stdout",
     "output_type": "stream",
     "text": [
      "Log loss on Test Data using Random Model 0.8848972100288384\n"
     ]
    },
    {
     "data": {
      "image/png": "[encoded data removed]",
      "text/plain": [
       "<Figure size 1440x288 with 6 Axes>"
      ]
     },
     "metadata": {
      "needs_background": "light"
     },
     "output_type": "display_data"
    }
   ],
   "source": [
    "# ref: https://stackoverflow.com/a/18662466/4084039\n",
    "# we create a output array that has exactly same size as the CV data\n",
    "predicted_y = np.zeros((len(y_test),2))\n",
    "for i in range(len(y_test)):\n",
    "    rand_probs = np.random.rand(1,2)\n",
    "    predicted_y[i] = ((rand_probs/sum(sum(rand_probs)))[0])\n",
    "print(\"Log loss on Test Data using Random Model\",log_loss(y_test, predicted_y, eps=1e-15))\n",
    "\n",
    "predicted_y =np.argmax(predicted_y, axis=1)\n",
    "plot_confusion_matrix(y_test, predicted_y)"
   ]
  },
  {
   "cell_type": "code",
   "execution_count": 11,
   "metadata": {},
   "outputs": [
    {
     "name": "stderr",
     "output_type": "stream",
     "text": [
      "/Users/ashutoshkumar/opt/anaconda3/lib/python3.8/site-packages/sklearn/linear_model/_stochastic_gradient.py:570: ConvergenceWarning: Maximum number of iteration reached before convergence. Consider increasing max_iter to improve the fit.\n",
      "  warnings.warn(\"Maximum number of iteration reached before \"\n",
      "/Users/ashutoshkumar/opt/anaconda3/lib/python3.8/site-packages/sklearn/linear_model/_stochastic_gradient.py:570: ConvergenceWarning: Maximum number of iteration reached before convergence. Consider increasing max_iter to improve the fit.\n",
      "  warnings.warn(\"Maximum number of iteration reached before \"\n",
      "/Users/ashutoshkumar/opt/anaconda3/lib/python3.8/site-packages/sklearn/linear_model/_stochastic_gradient.py:570: ConvergenceWarning: Maximum number of iteration reached before convergence. Consider increasing max_iter to improve the fit.\n",
      "  warnings.warn(\"Maximum number of iteration reached before \"\n",
      "/Users/ashutoshkumar/opt/anaconda3/lib/python3.8/site-packages/sklearn/linear_model/_stochastic_gradient.py:570: ConvergenceWarning: Maximum number of iteration reached before convergence. Consider increasing max_iter to improve the fit.\n",
      "  warnings.warn(\"Maximum number of iteration reached before \"\n",
      "/Users/ashutoshkumar/opt/anaconda3/lib/python3.8/site-packages/sklearn/linear_model/_stochastic_gradient.py:570: ConvergenceWarning: Maximum number of iteration reached before convergence. Consider increasing max_iter to improve the fit.\n",
      "  warnings.warn(\"Maximum number of iteration reached before \"\n"
     ]
    },
    {
     "name": "stdout",
     "output_type": "stream",
     "text": [
      "For values of alpha =  1e-05 The log loss is: 0.45555303682207043\n"
     ]
    },
    {
     "name": "stderr",
     "output_type": "stream",
     "text": [
      "/Users/ashutoshkumar/opt/anaconda3/lib/python3.8/site-packages/sklearn/linear_model/_stochastic_gradient.py:570: ConvergenceWarning: Maximum number of iteration reached before convergence. Consider increasing max_iter to improve the fit.\n",
      "  warnings.warn(\"Maximum number of iteration reached before \"\n",
      "/Users/ashutoshkumar/opt/anaconda3/lib/python3.8/site-packages/sklearn/linear_model/_stochastic_gradient.py:570: ConvergenceWarning: Maximum number of iteration reached before convergence. Consider increasing max_iter to improve the fit.\n",
      "  warnings.warn(\"Maximum number of iteration reached before \"\n"
     ]
    },
    {
     "name": "stdout",
     "output_type": "stream",
     "text": [
      "For values of alpha =  0.0001 The log loss is: 0.45899281145057275\n",
      "For values of alpha =  0.001 The log loss is: 0.44860617156229177\n",
      "For values of alpha =  0.01 The log loss is: 0.4242271812914657\n",
      "For values of alpha =  0.1 The log loss is: 0.4458602874654045\n",
      "For values of alpha =  1 The log loss is: 0.47663748594066174\n",
      "For values of alpha =  10 The log loss is: 0.5187385481261869\n"
     ]
    },
    {
     "data": {
      "image/png": "[encoded data removed]",
      "text/plain": [
       "<Figure size 432x288 with 1 Axes>"
      ]
     },
     "metadata": {
      "needs_background": "light"
     },
     "output_type": "display_data"
    },
    {
     "name": "stdout",
     "output_type": "stream",
     "text": [
      "For values of best alpha =  0.01 The train log loss is: 0.4230770125083063\n",
      "For values of best alpha =  0.01 The test log loss is: 0.4242271812914657\n",
      "Total number of data points : 121287\n"
     ]
    },
    {
     "data": {
      "image/png": "[encoded data removed]",
      "text/plain": [
       "<Figure size 1440x288 with 6 Axes>"
      ]
     },
     "metadata": {
      "needs_background": "light"
     },
     "output_type": "display_data"
    }
   ],
   "source": [
    "alpha = [10 ** x for x in range(-5, 2)] \n",
    "# hyperparam for SGD classifier.\n",
    "\n",
    "log_error_array=[]\n",
    "for i in alpha:\n",
    "    clf = SGDClassifier(alpha=i, penalty='l2', loss='log', random_state=42)\n",
    "    clf.fit(X_train, y_train)\n",
    "    sig_clf = CalibratedClassifierCV(clf, method=\"sigmoid\")\n",
    "    sig_clf.fit(X_train, y_train)\n",
    "    predict_y = sig_clf.predict_proba(X_test)\n",
    "    log_error_array.append(log_loss(y_test, predict_y, labels=clf.classes_, eps=1e-15))\n",
    "    print('For values of alpha = ', i, \"The log loss is:\",log_loss(y_test, predict_y, labels=clf.classes_, eps=1e-15))\n",
    "\n",
    "fig, ax = plt.subplots()\n",
    "ax.plot(alpha, log_error_array,c='g')\n",
    "for i, txt in enumerate(np.round(log_error_array,3)):\n",
    "    ax.annotate((alpha[i],np.round(txt,3)), (alpha[i],log_error_array[i]))\n",
    "plt.grid()\n",
    "plt.title(\"Cross Validation Error for each alpha\")\n",
    "plt.xlabel(\"Alpha i's\")\n",
    "plt.ylabel(\"Error measure\")\n",
    "plt.show()\n",
    "\n",
    "\n",
    "best_alpha = np.argmin(log_error_array)\n",
    "clf = SGDClassifier(alpha=alpha[best_alpha], penalty='l2', loss='log', random_state=42)\n",
    "clf.fit(X_train, y_train)\n",
    "sig_clf = CalibratedClassifierCV(clf, method=\"sigmoid\")\n",
    "sig_clf.fit(X_train, y_train)\n",
    "\n",
    "predict_y = sig_clf.predict_proba(X_train)\n",
    "print('For values of best alpha = ', alpha[best_alpha], \"The train log loss is:\",log_loss(y_train, predict_y, labels=clf.classes_, eps=1e-15))\n",
    "predict_y = sig_clf.predict_proba(X_test)\n",
    "print('For values of best alpha = ', alpha[best_alpha], \"The test log loss is:\",log_loss(y_test, predict_y, labels=clf.classes_, eps=1e-15))\n",
    "predicted_y =np.argmax(predict_y,axis=1)\n",
    "print(\"Total number of data points :\", len(predicted_y))\n",
    "plot_confusion_matrix(y_test, predicted_y)"
   ]
  },
  {
   "cell_type": "code",
   "execution_count": 12,
   "metadata": {},
   "outputs": [
    {
     "name": "stderr",
     "output_type": "stream",
     "text": [
      "/Users/ashutoshkumar/opt/anaconda3/lib/python3.8/site-packages/sklearn/linear_model/_stochastic_gradient.py:570: ConvergenceWarning: Maximum number of iteration reached before convergence. Consider increasing max_iter to improve the fit.\n",
      "  warnings.warn(\"Maximum number of iteration reached before \"\n"
     ]
    },
    {
     "name": "stdout",
     "output_type": "stream",
     "text": [
      "For values of alpha =  1e-05 The log loss is: 0.45077684455711275\n",
      "For values of alpha =  0.0001 The log loss is: 0.44846456570459475\n"
     ]
    },
    {
     "name": "stderr",
     "output_type": "stream",
     "text": [
      "/Users/ashutoshkumar/opt/anaconda3/lib/python3.8/site-packages/sklearn/linear_model/_stochastic_gradient.py:570: ConvergenceWarning: Maximum number of iteration reached before convergence. Consider increasing max_iter to improve the fit.\n",
      "  warnings.warn(\"Maximum number of iteration reached before \"\n",
      "/Users/ashutoshkumar/opt/anaconda3/lib/python3.8/site-packages/sklearn/linear_model/_stochastic_gradient.py:570: ConvergenceWarning: Maximum number of iteration reached before convergence. Consider increasing max_iter to improve the fit.\n",
      "  warnings.warn(\"Maximum number of iteration reached before \"\n",
      "/Users/ashutoshkumar/opt/anaconda3/lib/python3.8/site-packages/sklearn/linear_model/_stochastic_gradient.py:570: ConvergenceWarning: Maximum number of iteration reached before convergence. Consider increasing max_iter to improve the fit.\n",
      "  warnings.warn(\"Maximum number of iteration reached before \"\n",
      "/Users/ashutoshkumar/opt/anaconda3/lib/python3.8/site-packages/sklearn/linear_model/_stochastic_gradient.py:570: ConvergenceWarning: Maximum number of iteration reached before convergence. Consider increasing max_iter to improve the fit.\n",
      "  warnings.warn(\"Maximum number of iteration reached before \"\n",
      "/Users/ashutoshkumar/opt/anaconda3/lib/python3.8/site-packages/sklearn/linear_model/_stochastic_gradient.py:570: ConvergenceWarning: Maximum number of iteration reached before convergence. Consider increasing max_iter to improve the fit.\n",
      "  warnings.warn(\"Maximum number of iteration reached before \"\n",
      "/Users/ashutoshkumar/opt/anaconda3/lib/python3.8/site-packages/sklearn/linear_model/_stochastic_gradient.py:570: ConvergenceWarning: Maximum number of iteration reached before convergence. Consider increasing max_iter to improve the fit.\n",
      "  warnings.warn(\"Maximum number of iteration reached before \"\n"
     ]
    },
    {
     "name": "stdout",
     "output_type": "stream",
     "text": [
      "For values of alpha =  0.001 The log loss is: 0.5141076938839068\n"
     ]
    },
    {
     "name": "stderr",
     "output_type": "stream",
     "text": [
      "/Users/ashutoshkumar/opt/anaconda3/lib/python3.8/site-packages/sklearn/linear_model/_stochastic_gradient.py:570: ConvergenceWarning: Maximum number of iteration reached before convergence. Consider increasing max_iter to improve the fit.\n",
      "  warnings.warn(\"Maximum number of iteration reached before \"\n",
      "/Users/ashutoshkumar/opt/anaconda3/lib/python3.8/site-packages/sklearn/linear_model/_stochastic_gradient.py:570: ConvergenceWarning: Maximum number of iteration reached before convergence. Consider increasing max_iter to improve the fit.\n",
      "  warnings.warn(\"Maximum number of iteration reached before \"\n",
      "/Users/ashutoshkumar/opt/anaconda3/lib/python3.8/site-packages/sklearn/linear_model/_stochastic_gradient.py:570: ConvergenceWarning: Maximum number of iteration reached before convergence. Consider increasing max_iter to improve the fit.\n",
      "  warnings.warn(\"Maximum number of iteration reached before \"\n",
      "/Users/ashutoshkumar/opt/anaconda3/lib/python3.8/site-packages/sklearn/linear_model/_stochastic_gradient.py:570: ConvergenceWarning: Maximum number of iteration reached before convergence. Consider increasing max_iter to improve the fit.\n",
      "  warnings.warn(\"Maximum number of iteration reached before \"\n",
      "/Users/ashutoshkumar/opt/anaconda3/lib/python3.8/site-packages/sklearn/linear_model/_stochastic_gradient.py:570: ConvergenceWarning: Maximum number of iteration reached before convergence. Consider increasing max_iter to improve the fit.\n",
      "  warnings.warn(\"Maximum number of iteration reached before \"\n",
      "/Users/ashutoshkumar/opt/anaconda3/lib/python3.8/site-packages/sklearn/linear_model/_stochastic_gradient.py:570: ConvergenceWarning: Maximum number of iteration reached before convergence. Consider increasing max_iter to improve the fit.\n",
      "  warnings.warn(\"Maximum number of iteration reached before \"\n"
     ]
    },
    {
     "name": "stdout",
     "output_type": "stream",
     "text": [
      "For values of alpha =  0.01 The log loss is: 0.5258930748795293\n"
     ]
    },
    {
     "name": "stderr",
     "output_type": "stream",
     "text": [
      "/Users/ashutoshkumar/opt/anaconda3/lib/python3.8/site-packages/sklearn/linear_model/_stochastic_gradient.py:570: ConvergenceWarning: Maximum number of iteration reached before convergence. Consider increasing max_iter to improve the fit.\n",
      "  warnings.warn(\"Maximum number of iteration reached before \"\n",
      "/Users/ashutoshkumar/opt/anaconda3/lib/python3.8/site-packages/sklearn/linear_model/_stochastic_gradient.py:570: ConvergenceWarning: Maximum number of iteration reached before convergence. Consider increasing max_iter to improve the fit.\n",
      "  warnings.warn(\"Maximum number of iteration reached before \"\n",
      "/Users/ashutoshkumar/opt/anaconda3/lib/python3.8/site-packages/sklearn/linear_model/_stochastic_gradient.py:570: ConvergenceWarning: Maximum number of iteration reached before convergence. Consider increasing max_iter to improve the fit.\n",
      "  warnings.warn(\"Maximum number of iteration reached before \"\n",
      "/Users/ashutoshkumar/opt/anaconda3/lib/python3.8/site-packages/sklearn/linear_model/_stochastic_gradient.py:570: ConvergenceWarning: Maximum number of iteration reached before convergence. Consider increasing max_iter to improve the fit.\n",
      "  warnings.warn(\"Maximum number of iteration reached before \"\n",
      "/Users/ashutoshkumar/opt/anaconda3/lib/python3.8/site-packages/sklearn/linear_model/_stochastic_gradient.py:570: ConvergenceWarning: Maximum number of iteration reached before convergence. Consider increasing max_iter to improve the fit.\n",
      "  warnings.warn(\"Maximum number of iteration reached before \"\n"
     ]
    },
    {
     "name": "stdout",
     "output_type": "stream",
     "text": [
      "For values of alpha =  0.1 The log loss is: 0.5103808297003668\n"
     ]
    },
    {
     "name": "stderr",
     "output_type": "stream",
     "text": [
      "/Users/ashutoshkumar/opt/anaconda3/lib/python3.8/site-packages/sklearn/linear_model/_stochastic_gradient.py:570: ConvergenceWarning: Maximum number of iteration reached before convergence. Consider increasing max_iter to improve the fit.\n",
      "  warnings.warn(\"Maximum number of iteration reached before \"\n",
      "/Users/ashutoshkumar/opt/anaconda3/lib/python3.8/site-packages/sklearn/linear_model/_stochastic_gradient.py:570: ConvergenceWarning: Maximum number of iteration reached before convergence. Consider increasing max_iter to improve the fit.\n",
      "  warnings.warn(\"Maximum number of iteration reached before \"\n",
      "/Users/ashutoshkumar/opt/anaconda3/lib/python3.8/site-packages/sklearn/linear_model/_stochastic_gradient.py:570: ConvergenceWarning: Maximum number of iteration reached before convergence. Consider increasing max_iter to improve the fit.\n",
      "  warnings.warn(\"Maximum number of iteration reached before \"\n",
      "/Users/ashutoshkumar/opt/anaconda3/lib/python3.8/site-packages/sklearn/linear_model/_stochastic_gradient.py:570: ConvergenceWarning: Maximum number of iteration reached before convergence. Consider increasing max_iter to improve the fit.\n",
      "  warnings.warn(\"Maximum number of iteration reached before \"\n"
     ]
    },
    {
     "name": "stdout",
     "output_type": "stream",
     "text": [
      "For values of alpha =  1 The log loss is: 0.5740706575309006\n",
      "For values of alpha =  10 The log loss is: 0.6119224049076769\n"
     ]
    },
    {
     "data": {
      "image/png": "[encoded data removed]",
      "text/plain": [
       "<Figure size 432x288 with 1 Axes>"
      ]
     },
     "metadata": {
      "needs_background": "light"
     },
     "output_type": "display_data"
    },
    {
     "name": "stdout",
     "output_type": "stream",
     "text": [
      "For values of best alpha =  0.0001 The train log loss is: 0.44880699126034584\n",
      "For values of best alpha =  0.0001 The test log loss is: 0.44846456570459475\n",
      "Total number of data points : 121287\n"
     ]
    },
    {
     "data": {
      "image/png": "[encoded data removed]",
      "text/plain": [
       "<Figure size 1440x288 with 6 Axes>"
      ]
     },
     "metadata": {
      "needs_background": "light"
     },
     "output_type": "display_data"
    }
   ],
   "source": [
    "alpha = [10 ** x for x in range(-5, 2)] # hyperparam for SGD classifier.\n",
    "\n",
    "log_error_array=[]\n",
    "for i in alpha:\n",
    "    clf = SGDClassifier(alpha=i, penalty='l1', loss='hinge', random_state=42)\n",
    "    clf.fit(X_train, y_train)\n",
    "    sig_clf = CalibratedClassifierCV(clf, method=\"sigmoid\")\n",
    "    sig_clf.fit(X_train, y_train)\n",
    "    predict_y = sig_clf.predict_proba(X_test)\n",
    "    log_error_array.append(log_loss(y_test, predict_y, labels=clf.classes_, eps=1e-15))\n",
    "    print('For values of alpha = ', i, \"The log loss is:\",log_loss(y_test, predict_y, labels=clf.classes_, eps=1e-15))\n",
    "\n",
    "fig, ax = plt.subplots()\n",
    "ax.plot(alpha, log_error_array,c='g')\n",
    "for i, txt in enumerate(np.round(log_error_array,3)):\n",
    "    ax.annotate((alpha[i],np.round(txt,3)), (alpha[i],log_error_array[i]))\n",
    "plt.grid()\n",
    "plt.title(\"Cross Validation Error for each alpha\")\n",
    "plt.xlabel(\"Alpha i's\")\n",
    "plt.ylabel(\"Error measure\")\n",
    "plt.show()\n",
    "\n",
    "\n",
    "best_alpha = np.argmin(log_error_array)\n",
    "clf = SGDClassifier(alpha=alpha[best_alpha], penalty='l1', loss='hinge', random_state=42)\n",
    "clf.fit(X_train, y_train)\n",
    "sig_clf = CalibratedClassifierCV(clf, method=\"sigmoid\")\n",
    "sig_clf.fit(X_train, y_train)\n",
    "\n",
    "predict_y = sig_clf.predict_proba(X_train)\n",
    "print('For values of best alpha = ', alpha[best_alpha], \"The train log loss is:\",log_loss(y_train, predict_y, labels=clf.classes_, eps=1e-15))\n",
    "predict_y = sig_clf.predict_proba(X_test)\n",
    "print('For values of best alpha = ', alpha[best_alpha], \"The test log loss is:\",log_loss(y_test, predict_y, labels=clf.classes_, eps=1e-15))\n",
    "predicted_y =np.argmax(predict_y,axis=1)\n",
    "print(\"Total number of data points :\", len(predicted_y))\n",
    "plot_confusion_matrix(y_test, predicted_y)"
   ]
  },
  {
   "cell_type": "code",
   "execution_count": 22,
   "metadata": {},
   "outputs": [
    {
     "name": "stdout",
     "output_type": "stream",
     "text": [
      "Fitting 5 folds for each of 6 candidates, totalling 30 fits\n"
     ]
    },
    {
     "name": "stderr",
     "output_type": "stream",
     "text": [
      "[Parallel(n_jobs=-1)]: Using backend LokyBackend with 8 concurrent workers.\n",
      "[Parallel(n_jobs=-1)]: Done  26 out of  30 | elapsed: 363.5min remaining: 55.9min\n",
      "[Parallel(n_jobs=-1)]: Done  30 out of  30 | elapsed: 375.4min finished\n",
      "/Users/ashutoshkumar/opt/anaconda3/lib/python3.8/site-packages/xgboost/sklearn.py:1146: UserWarning: The use of label encoder in XGBClassifier is deprecated and will be removed in a future release. To remove this warning, do the following: 1) Pass option use_label_encoder=False when constructing XGBClassifier object; and 2) Encode your labels (y) as integers starting with 0, i.e. 0, 1, 2, ..., [num_class - 1].\n",
      "  warnings.warn(label_encoder_deprecation_msg, UserWarning)\n"
     ]
    },
    {
     "name": "stdout",
     "output_type": "stream",
     "text": [
      "[03:43:35] WARNING: /Users/travis/build/dmlc/xgboost/src/learner.cc:573: \n",
      "Parameters: { \"silent\" } might not be used.\n",
      "\n",
      "  This may not be accurate due to some parameters are only used in language bindings but\n",
      "  passed down to XGBoost core.  Or some parameters are not used but slip through this\n",
      "  verification. Please open an issue if you find above cases.\n",
      "\n",
      "\n",
      "[03:43:47] WARNING: /Users/travis/build/dmlc/xgboost/src/learner.cc:1095: Starting in XGBoost 1.3.0, the default evaluation metric used with the objective 'binary:logistic' was changed from 'error' to 'logloss'. Explicitly set eval_metric if you'd like to restore the old behavior.\n"
     ]
    },
    {
     "data": {
      "text/plain": [
       "RandomizedSearchCV(cv=<generator object _BaseKFold.split at 0x7fef83b15820>,\n",
       "                   estimator=XGBClassifier(base_score=None, booster=None,\n",
       "                                           colsample_bylevel=None,\n",
       "                                           colsample_bynode=None,\n",
       "                                           colsample_bytree=None, gamma=None,\n",
       "                                           gpu_id=None, importance_type='gain',\n",
       "                                           interaction_constraints=None,\n",
       "                                           learning_rate=0.02,\n",
       "                                           max_delta_step=None, max_depth=None,\n",
       "                                           min_child_weight=None, missing...\n",
       "                                           scale_pos_weight=None, silent=True,\n",
       "                                           subsample=None, tree_method=None,\n",
       "                                           validate_parameters=None,\n",
       "                                           verbosity=None),\n",
       "                   n_iter=6, n_jobs=-1,\n",
       "                   param_distributions={'colsample_bytree': [0.6, 0.8, 1.0],\n",
       "                                        'eta': [0.0001, 0.001, 0.01],\n",
       "                                        'gamma': [0.5, 1, 1.5, 2, 5],\n",
       "                                        'max_depth': [3, 4, 5],\n",
       "                                        'min_child_weight': [1, 5, 10],\n",
       "                                        'subsample': [0.6, 0.8, 1.0]},\n",
       "                   random_state=1001, scoring='roc_auc', verbose=3)"
      ]
     },
     "execution_count": 22,
     "metadata": {},
     "output_type": "execute_result"
    }
   ],
   "source": [
    "# https://www.kaggle.com/tilii7/hyperparameter-grid-search-with-xgboost\n",
    "\n",
    "params = {\n",
    "        'min_child_weight': [1, 5, 10],\n",
    "        'gamma': [0.5, 1, 1.5, 2, 5],\n",
    "        'subsample': [0.6, 0.8, 1.0],\n",
    "        'colsample_bytree': [0.6, 0.8, 1.0],\n",
    "        'max_depth': [3, 4, 5],\n",
    "        'eta': [0.0001, 0.001, 0.01]\n",
    "        }\n",
    "\n",
    "xgb = XGBClassifier(learning_rate=0.02, n_estimators=600, objective='binary:logistic',silent=True, nthread=1)\n",
    "folds = 5\n",
    "param_comb = 6\n",
    "skf = StratifiedKFold(n_splits=folds, shuffle = True, random_state = 1001)\n",
    "random_search = RandomizedSearchCV(xgb, param_distributions=params, \n",
    "                                   n_iter=param_comb, scoring='roc_auc', n_jobs=-1,\n",
    "                                   cv=skf.split(X_train, y_train), verbose=3, random_state=1001 )\n",
    "# Here we go\n",
    "#start_time = timer(None) \n",
    "# timing starts from this point for \"start_time\" variable\n",
    "random_search.fit(X_train, y_train)\n",
    "#timer(start_time)\n",
    "   "
   ]
  },
  {
   "cell_type": "code",
   "execution_count": 23,
   "metadata": {},
   "outputs": [
    {
     "name": "stdout",
     "output_type": "stream",
     "text": [
      "\n",
      " All results:\n",
      "{'mean_fit_time': array([6712.58126564, 7361.7879962 , 8298.67175088, 4003.54989777,\n",
      "       4384.72307434, 3427.26157308]), 'std_fit_time': array([ 11.15506732,  47.91512562,   6.90561948,  16.32049499,\n",
      "        23.14229975, 329.76349949]), 'mean_score_time': array([1.78521252, 1.635285  , 1.75499077, 1.45080371, 1.4096952 ,\n",
      "       0.60716448]), 'std_score_time': array([0.10390328, 0.14411031, 0.07000257, 0.07741124, 0.10249857,\n",
      "       0.13782253]), 'param_subsample': masked_array(data=[0.8, 1.0, 0.8, 0.8, 1.0, 0.6],\n",
      "             mask=[False, False, False, False, False, False],\n",
      "       fill_value='?',\n",
      "            dtype=object), 'param_min_child_weight': masked_array(data=[5, 5, 10, 10, 1, 1],\n",
      "             mask=[False, False, False, False, False, False],\n",
      "       fill_value='?',\n",
      "            dtype=object), 'param_max_depth': masked_array(data=[4, 4, 5, 4, 4, 4],\n",
      "             mask=[False, False, False, False, False, False],\n",
      "       fill_value='?',\n",
      "            dtype=object), 'param_gamma': masked_array(data=[1.5, 2, 5, 0.5, 2, 1.5],\n",
      "             mask=[False, False, False, False, False, False],\n",
      "       fill_value='?',\n",
      "            dtype=object), 'param_eta': masked_array(data=[0.0001, 0.0001, 0.01, 0.01, 0.001, 0.001],\n",
      "             mask=[False, False, False, False, False, False],\n",
      "       fill_value='?',\n",
      "            dtype=object), 'param_colsample_bytree': masked_array(data=[1.0, 1.0, 1.0, 0.6, 0.6, 0.8],\n",
      "             mask=[False, False, False, False, False, False],\n",
      "       fill_value='?',\n",
      "            dtype=object), 'params': [{'subsample': 0.8, 'min_child_weight': 5, 'max_depth': 4, 'gamma': 1.5, 'eta': 0.0001, 'colsample_bytree': 1.0}, {'subsample': 1.0, 'min_child_weight': 5, 'max_depth': 4, 'gamma': 2, 'eta': 0.0001, 'colsample_bytree': 1.0}, {'subsample': 0.8, 'min_child_weight': 10, 'max_depth': 5, 'gamma': 5, 'eta': 0.01, 'colsample_bytree': 1.0}, {'subsample': 0.8, 'min_child_weight': 10, 'max_depth': 4, 'gamma': 0.5, 'eta': 0.01, 'colsample_bytree': 0.6}, {'subsample': 1.0, 'min_child_weight': 1, 'max_depth': 4, 'gamma': 2, 'eta': 0.001, 'colsample_bytree': 0.6}, {'subsample': 0.6, 'min_child_weight': 1, 'max_depth': 4, 'gamma': 1.5, 'eta': 0.001, 'colsample_bytree': 0.8}], 'split0_test_score': array([0.91347632, 0.91337924, 0.91734743, 0.91338755, 0.91314007,\n",
      "       0.91388195]), 'split1_test_score': array([0.91252955, 0.91183296, 0.91667726, 0.91259932, 0.91192073,\n",
      "       0.91296884]), 'split2_test_score': array([0.91210866, 0.91136822, 0.91636972, 0.91189482, 0.91143532,\n",
      "       0.91200546]), 'split3_test_score': array([0.91336414, 0.91285689, 0.91711126, 0.91298242, 0.91277893,\n",
      "       0.91338542]), 'split4_test_score': array([0.9132603 , 0.91279057, 0.9168975 , 0.91292337, 0.91287773,\n",
      "       0.91316873]), 'mean_test_score': array([0.91294779, 0.91244558, 0.91688063, 0.9127575 , 0.91243055,\n",
      "       0.91308208]), 'std_test_score': array([0.00053468, 0.00073429, 0.00033875, 0.00049886, 0.00064423,\n",
      "       0.00061826]), 'rank_test_score': array([3, 5, 1, 4, 6, 2], dtype=int32)}\n",
      "\n",
      " Best estimator:\n",
      "XGBClassifier(base_score=0.5, booster='gbtree', colsample_bylevel=1,\n",
      "              colsample_bynode=1, colsample_bytree=1.0, eta=0.01, gamma=5,\n",
      "              gpu_id=-1, importance_type='gain', interaction_constraints='',\n",
      "              learning_rate=0.02, max_delta_step=0, max_depth=5,\n",
      "              min_child_weight=10, missing=nan, monotone_constraints='()',\n",
      "              n_estimators=600, n_jobs=1, nthread=1, num_parallel_tree=1,\n",
      "              random_state=0, reg_alpha=0, reg_lambda=1, scale_pos_weight=1,\n",
      "              silent=True, subsample=0.8, tree_method='exact',\n",
      "              validate_parameters=1, verbosity=None)\n",
      "\n",
      " Best normalized gini score for 5-fold search with 6 parameter combinations:\n",
      "0.8337612656076683\n",
      "\n",
      " Best hyperparameters:\n",
      "{'subsample': 0.8, 'min_child_weight': 10, 'max_depth': 5, 'gamma': 5, 'eta': 0.01, 'colsample_bytree': 1.0}\n"
     ]
    }
   ],
   "source": [
    "print('\\n All results:')\n",
    "print(random_search.cv_results_)\n",
    "print('\\n Best estimator:')\n",
    "print(random_search.best_estimator_)\n",
    "print('\\n Best normalized gini score for %d-fold search with %d parameter combinations:' % (folds, param_comb))\n",
    "print(random_search.best_score_ * 2 - 1)\n",
    "print('\\n Best hyperparameters:')\n",
    "print(random_search.best_params_)"
   ]
  },
  {
   "cell_type": "code",
   "execution_count": 27,
   "metadata": {},
   "outputs": [
    {
     "name": "stdout",
     "output_type": "stream",
     "text": [
      "[05:56:10] WARNING: /Users/travis/build/dmlc/xgboost/src/learner.cc:573: \n",
      "Parameters: { \"importance_type\", \"n_estimators\" } might not be used.\n",
      "\n",
      "  This may not be accurate due to some parameters are only used in language bindings but\n",
      "  passed down to XGBoost core.  Or some parameters are not used but slip through this\n",
      "  verification. Please open an issue if you find above cases.\n",
      "\n",
      "\n",
      "[0]\ttrain-rmse:0.49549\tvalid-rmse:0.49560\n",
      "[10]\ttrain-rmse:0.45838\tvalid-rmse:0.45855\n",
      "[20]\ttrain-rmse:0.43084\tvalid-rmse:0.43077\n",
      "[30]\ttrain-rmse:0.40939\tvalid-rmse:0.40956\n",
      "[40]\ttrain-rmse:0.39372\tvalid-rmse:0.39397\n",
      "[50]\ttrain-rmse:0.38225\tvalid-rmse:0.38252\n",
      "[60]\ttrain-rmse:0.37398\tvalid-rmse:0.37429\n",
      "[70]\ttrain-rmse:0.36796\tvalid-rmse:0.36830\n",
      "[80]\ttrain-rmse:0.36330\tvalid-rmse:0.36368\n",
      "[90]\ttrain-rmse:0.35982\tvalid-rmse:0.36020\n",
      "[100]\ttrain-rmse:0.35713\tvalid-rmse:0.35758\n",
      "[110]\ttrain-rmse:0.35482\tvalid-rmse:0.35537\n",
      "[120]\ttrain-rmse:0.35286\tvalid-rmse:0.35343\n",
      "[130]\ttrain-rmse:0.35139\tvalid-rmse:0.35196\n",
      "[140]\ttrain-rmse:0.34995\tvalid-rmse:0.35070\n",
      "[150]\ttrain-rmse:0.34883\tvalid-rmse:0.34961\n",
      "[160]\ttrain-rmse:0.34785\tvalid-rmse:0.34870\n",
      "[170]\ttrain-rmse:0.34705\tvalid-rmse:0.34797\n",
      "[180]\ttrain-rmse:0.34636\tvalid-rmse:0.34734\n",
      "[190]\ttrain-rmse:0.34569\tvalid-rmse:0.34673\n",
      "[200]\ttrain-rmse:0.34506\tvalid-rmse:0.34615\n",
      "[210]\ttrain-rmse:0.34457\tvalid-rmse:0.34570\n",
      "[220]\ttrain-rmse:0.34407\tvalid-rmse:0.34524\n",
      "[230]\ttrain-rmse:0.34354\tvalid-rmse:0.34477\n",
      "[240]\ttrain-rmse:0.34310\tvalid-rmse:0.34439\n",
      "[250]\ttrain-rmse:0.34270\tvalid-rmse:0.34403\n",
      "[260]\ttrain-rmse:0.34229\tvalid-rmse:0.34368\n",
      "[270]\ttrain-rmse:0.34195\tvalid-rmse:0.34339\n",
      "[280]\ttrain-rmse:0.34164\tvalid-rmse:0.34312\n",
      "[290]\ttrain-rmse:0.34133\tvalid-rmse:0.34285\n",
      "[300]\ttrain-rmse:0.34100\tvalid-rmse:0.34258\n",
      "[310]\ttrain-rmse:0.34067\tvalid-rmse:0.34229\n",
      "[320]\ttrain-rmse:0.34043\tvalid-rmse:0.34209\n",
      "[330]\ttrain-rmse:0.34018\tvalid-rmse:0.34188\n",
      "[340]\ttrain-rmse:0.33995\tvalid-rmse:0.34170\n",
      "[350]\ttrain-rmse:0.33972\tvalid-rmse:0.34151\n",
      "[360]\ttrain-rmse:0.33947\tvalid-rmse:0.34130\n",
      "[370]\ttrain-rmse:0.33925\tvalid-rmse:0.34113\n",
      "[380]\ttrain-rmse:0.33905\tvalid-rmse:0.34095\n",
      "[390]\ttrain-rmse:0.33886\tvalid-rmse:0.34080\n",
      "[399]\ttrain-rmse:0.33866\tvalid-rmse:0.34064\n",
      "The test log loss is: nan\n"
     ]
    },
    {
     "name": "stderr",
     "output_type": "stream",
     "text": [
      "/Users/ashutoshkumar/opt/anaconda3/lib/python3.8/site-packages/sklearn/metrics/_classification.py:2240: RuntimeWarning: divide by zero encountered in log\n",
      "  loss = -(transformed_labels * np.log(y_pred)).sum(axis=1)\n",
      "/Users/ashutoshkumar/opt/anaconda3/lib/python3.8/site-packages/sklearn/metrics/_classification.py:2240: RuntimeWarning: invalid value encountered in multiply\n",
      "  loss = -(transformed_labels * np.log(y_pred)).sum(axis=1)\n"
     ]
    }
   ],
   "source": [
    "# XGBClassifier(base_score=0.5, booster='gbtree', colsample_bylevel=1,\n",
    "#               colsample_bynode=1, colsample_bytree=1.0, eta=0.01, gamma=5,\n",
    "#               gpu_id=-1, importance_type='gain', interaction_constraints='',\n",
    "#               learning_rate=0.02, max_delta_step=0, max_depth=5,\n",
    "#               min_child_weight=10, missing=nan, monotone_constraints='()',\n",
    "#               n_estimators=600, n_jobs=1, nthread=1, num_parallel_tree=1,\n",
    "#               random_state=0, reg_alpha=0, reg_lambda=1, scale_pos_weight=1,\n",
    "#               silent=True, subsample=0.8, tree_method='exact',\n",
    "#               validate_parameters=1, verbosity=None)\n",
    "params = {\n",
    "            \"base_score\":0.5, \"booster\":\"gbtree\", \"colsample_bylevel\":1,\n",
    "              \"colsample_bynode\":1, \"colsample_bytree\":1.0, \"eta\":0.01, \"gamma\":5,\n",
    "              \"gpu_id\":-1, \"importance_type\":\"gain\", \n",
    "              \"learning_rate\":0.02, \"max_delta_step\":0, \"max_depth\":5,\n",
    "              \"min_child_weight\":10, \n",
    "                \"n_estimators\":600, \"n_jobs\":-1, \"nthread\":1, \"num_parallel_tree\":1,\n",
    "              \"random_state\":0, \"reg_alpha\":0, \"reg_lambda\":1, \"scale_pos_weight\":1,\n",
    "               \"subsample\":0.8, \"tree_method\":\"exact\"\n",
    "}\n",
    "\n",
    "d_train = xgb.DMatrix(X_train, label=y_train)\n",
    "d_test = xgb.DMatrix(X_test, label=y_test)\n",
    "\n",
    "watchlist = [(d_train, 'train'), (d_test, 'valid')]\n",
    "\n",
    "bst = xgb.train(params, d_train, 400, watchlist, early_stopping_rounds=20, verbose_eval=10)\n",
    "\n",
    "xgdmat = xgb.DMatrix(X_train,y_train)\n",
    "predict_y = bst.predict(d_test)\n",
    "print(\"The test log loss is:\",log_loss(y_test, predict_y, labels=clf.classes_, eps=1e-15))"
   ]
  },
  {
   "cell_type": "code",
   "execution_count": 28,
   "metadata": {},
   "outputs": [
    {
     "name": "stdout",
     "output_type": "stream",
     "text": [
      "Total number of data points : 121287\n"
     ]
    },
    {
     "data": {
      "image/png": "[encoded data removed]",
      "text/plain": [
       "<Figure size 1440x288 with 6 Axes>"
      ]
     },
     "metadata": {
      "needs_background": "light"
     },
     "output_type": "display_data"
    }
   ],
   "source": [
    "predicted_y =np.array(predict_y>0.5,dtype=int)\n",
    "print(\"Total number of data points :\", len(predicted_y))\n",
    "plot_confusion_matrix(y_test, predicted_y)"
   ]
  },
  {
   "cell_type": "code",
   "execution_count": null,
   "metadata": {},
   "outputs": [],
   "source": [
    "\"\"\"\n",
    "'frequency_of_question1',\n",
    " 'frequency_of_question2',\n",
    " 'character_in_question1',\n",
    " 'character_in_question2',\n",
    " 'word_in_question1',\n",
    " 'word_in_question2',\n",
    " 'common_words_in_both_questions',\n",
    " 'total_words_in_both_questions',\n",
    " 'common_share_word_percentage',\n",
    " 'sum_of_frequency',\n",
    " 'difference_of_frequency',\n",
    " 'common_word_count_min',\n",
    " 'common_word_count_max',\n",
    " 'common_stop_count_min',\n",
    " 'common_stop_count_max',\n",
    " 'common_token_count_min',\n",
    " 'common_token_count_max',\n",
    " 'is_first_token_match',\n",
    " 'is_last_token_match',\n",
    " 'mean_token',\n",
    " 'fuzz_ratio',\n",
    " 'fuzz_partial_ratio',\n",
    " 'fuzz_sort_ratio',\n",
    " 'fuzz_set_ratio',\n",
    " 'lcs_token_min',\n",
    "\"\"\"\n"
   ]
  }
 ],
 "metadata": {
  "kernelspec": {
   "display_name": "Python 3",
   "language": "python",
   "name": "python3"
  },
  "language_info": {
   "codemirror_mode": {
    "name": "ipython",
    "version": 3
   },
   "file_extension": ".py",
   "mimetype": "text/x-python",
   "name": "python",
   "nbconvert_exporter": "python",
   "pygments_lexer": "ipython3",
   "version": "3.8.5"
  }
 },
 "nbformat": 4,
 "nbformat_minor": 4
}
